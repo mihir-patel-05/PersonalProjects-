{
 "cells": [
  {
   "cell_type": "markdown",
   "id": "33d64fe0-2d07-4a16-80c1-d7e7b5f451af",
   "metadata": {},
   "source": [
    "# Modeling forest fire using Agent-Based Modeling "
   ]
  },
  {
   "cell_type": "code",
   "execution_count": null,
   "id": "0edc3d17-ef85-4777-9feb-f374b0c257ff",
   "metadata": {},
   "outputs": [],
   "source": []
  }
 ],
 "metadata": {
  "kernelspec": {
   "display_name": "Python 3 (ipykernel)",
   "language": "python",
   "name": "python3"
  },
  "language_info": {
   "codemirror_mode": {
    "name": "ipython",
    "version": 3
   },
   "file_extension": ".py",
   "mimetype": "text/x-python",
   "name": "python",
   "nbconvert_exporter": "python",
   "pygments_lexer": "ipython3",
   "version": "3.11.8"
  }
 },
 "nbformat": 4,
 "nbformat_minor": 5
}
